{
 "cells": [
  {
   "cell_type": "code",
   "execution_count": 6,
   "metadata": {},
   "outputs": [],
   "source": [
    "import itertools\n",
    "import pandas as pd\n",
    "import numpy as np"
   ]
  },
  {
   "cell_type": "markdown",
   "metadata": {},
   "source": [
    "Your task is to develop two functions, one for each scenario, where users can input values for m, n, and x to compute the required probability."
   ]
  },
  {
   "cell_type": "markdown",
   "metadata": {},
   "source": [
    "# Scenario 1"
   ]
  },
  {
   "cell_type": "markdown",
   "metadata": {},
   "source": [
    "Calculating the probability of rolling m dice, each with n sides, and having the sum of the dice be greater than x. This calculation should only be implemented for m = 1 through 4 and n is at most 20."
   ]
  },
  {
   "cell_type": "code",
   "execution_count": 27,
   "metadata": {},
   "outputs": [],
   "source": [
    "def probability_sum_greater_than_x(m, n, x):\n",
    "    if(x > 80):\n",
    "        # The maximum sum of 4d20 is 80\n",
    "        print(f\"Invalid input. x must be at most 80.\")\n",
    "        return 000\n",
    "    \n",
    "    elif((1 <= m <= 4) and (n <= 20)):\n",
    "        # List out all possible rolls in range 1:n+1 (since range is exclusive) for m dice\n",
    "        rolls = list(itertools.product(range(1, (n + 1)), repeat=m))\n",
    "        # Find the sum of all possible rolls\n",
    "        sums = np.array([sum(roll) for roll in rolls])\n",
    "        # Find the proportion of those sums that are greater than the target x\n",
    "        return np.mean(sums > x)\n",
    "    \n",
    "    else:\n",
    "        # If the input is invalid (m < 1, m > 4, n > 20), return 000\n",
    "        print(f\"Invalid input. m must be between 1 and 4, and n must be at most 20.\")\n",
    "        return 000\n",
    "\n",
    "# FOR TESTING PURPOSES\n",
    "# prob_3d4 = probability_sum_greater_than_x(4, 15, 13)\n",
    "# Should output 0.9859\n",
    "\n",
    "# print(f\"The probability of rolling 3d4 sum > 9: {prob_3d4:.4f}\")\n"
   ]
  },
  {
   "cell_type": "markdown",
   "metadata": {},
   "source": [
    "# Scenario 2"
   ]
  },
  {
   "cell_type": "markdown",
   "metadata": {},
   "source": [
    "Determining the probability of rolling m dice, each with n sides, and having at least one die show a value greater than or equal to x."
   ]
  },
  {
   "cell_type": "code",
   "execution_count": null,
   "metadata": {},
   "outputs": [],
   "source": []
  },
  {
   "cell_type": "markdown",
   "metadata": {},
   "source": [
    "# Walkthrough Example"
   ]
  },
  {
   "cell_type": "markdown",
   "metadata": {},
   "source": []
  }
 ],
 "metadata": {
  "kernelspec": {
   "display_name": "Python 3",
   "language": "python",
   "name": "python3"
  },
  "language_info": {
   "codemirror_mode": {
    "name": "ipython",
    "version": 3
   },
   "file_extension": ".py",
   "mimetype": "text/x-python",
   "name": "python",
   "nbconvert_exporter": "python",
   "pygments_lexer": "ipython3",
   "version": "3.11.5"
  }
 },
 "nbformat": 4,
 "nbformat_minor": 2
}
