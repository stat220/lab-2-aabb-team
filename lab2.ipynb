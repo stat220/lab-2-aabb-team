{
 "cells": [
  {
   "cell_type": "code",
   "execution_count": 6,
   "metadata": {},
   "outputs": [],
   "source": [
    "import itertools\n",
    "import pandas as pd\n",
    "import numpy as np"
   ]
  },
  {
   "cell_type": "markdown",
   "metadata": {},
   "source": [
    "Your task is to develop two functions, one for each scenario, where users can input values for m, n, and x to compute the required probability."
   ]
  },
  {
   "cell_type": "markdown",
   "metadata": {},
   "source": [
    "# Scenario 1"
   ]
  },
  {
   "cell_type": "markdown",
   "metadata": {},
   "source": [
    "Calculating the probability of rolling m dice, each with n sides, and having the sum of the dice be greater than x. This calculation should only be implemented for m = 1 through 4 and n is at most 20."
   ]
  },
  {
   "cell_type": "code",
   "execution_count": 27,
   "metadata": {},
   "outputs": [],
   "source": [
    "def probability_sum_greater_than_x(m, n, x):\n",
    "    if(x > 80):\n",
    "        # The maximum sum of 4d20 is 80\n",
    "        print(f\"Invalid input. x must be at most 80.\")\n",
    "        return 000\n",
    "    \n",
    "    elif((1 <= m <= 4) and (n <= 20)):\n",
    "        # List out all possible rolls in range 1:n+1 (since range is exclusive) for m dice\n",
    "        rolls = list(itertools.product(range(1, (n + 1)), repeat=m))\n",
    "        # Find the sum of all possible rolls\n",
    "        sums = np.array([sum(roll) for roll in rolls])\n",
    "        # Find the proportion of those sums that are greater than the target x\n",
    "        return np.mean(sums > x)\n",
    "    \n",
    "    else:\n",
    "        # If the input is invalid (m < 1, m > 4, n > 20), return 000\n",
    "        print(f\"Invalid input. m must be between 1 and 4, and n must be at most 20.\")\n",
    "        return 000\n",
    "\n",
    "# FOR TESTING PURPOSES\n",
    "# prob_3d4 = probability_sum_greater_than_x(4, 15, 13)\n",
    "# Should output 0.9859\n",
    "\n",
    "# print(f\"The probability of rolling 3d4 sum > 9: {prob_3d4:.4f}\")\n"
   ]
  },
  {
   "cell_type": "markdown",
   "metadata": {},
   "source": [
    "# Scenario 2"
   ]
  },
  {
   "cell_type": "markdown",
   "metadata": {},
   "source": [
    "Determining the probability of rolling m dice, each with n sides, and having at least one die show a value greater than or equal to x."
   ]
  },
  {
   "cell_type": "code",
   "execution_count": null,
   "metadata": {},
   "outputs": [],
   "source": [
    "def probability_of_at_least_one_x_or_greater(m, n, x):\n",
    "    # List out all possible rolls\n",
    "    rolls = list(itertools.product(range(1, n+1), repeat=m))\n",
    "    # Find the number of rolls with at least one dice >= x \n",
    "    num_above_x = sum(1 for roll in rolls if any(dice >=x for dice in roll))\n",
    "    # Find the overall probability of a num_above_x\n",
    "    probability = num_above_x/len(rolls)\n",
    "    return probability"
   ]
  },
  {
   "cell_type": "markdown",
   "metadata": {},
   "source": [
    "# Walkthrough Example"
   ]
  },
  {
   "cell_type": "markdown",
   "metadata": {},
   "source": [
    "1. In this example, we want to calculate the probability of rolling 1 d20 and the value being greater or equal to 17. There are 4 options to roll successfully (17, 18, 19, 20). 4/20 gives us a 20% probability. \n",
    "\n",
    "2. Here we want to roll 3 d4 and get a sum greater than or equal to 10. There are 64 total possibilities \n",
    "(4 sides)^3 rolls and we will only succeed if we get a 10, 11 or 12. There are 6 ways we can roll a 10:\n",
    "(2, 4, 4)\n",
    "(4, 2, 4)\n",
    "(4, 4, 2)\n",
    "(3, 3, 4)\n",
    "(3, 4, 3)\n",
    "(4, 3, 3)\n",
    "There are only 3 ways of rolling 11:\n",
    "(4, 4, 3)\n",
    "(4, 3, 4)\n",
    "(3, 4, 4)\n",
    "And only 1 way of rolling a 12:\n",
    "(4, 4, 4)\n",
    "This means that we succeed 10 times out of 64 total possible outcomes. P(3d4 >= 10) = 10/64 = 15.625%\n",
    "\n",
    "3. Rolling 4 d6 and having at least one dice showing 6: In this scenario, each dice has a 1/6 chance to land on 6.\n"
   ]
  }
 ],
 "metadata": {
  "kernelspec": {
   "display_name": "Python 3",
   "language": "python",
   "name": "python3"
  },
  "language_info": {
   "codemirror_mode": {
    "name": "ipython",
    "version": 3
   },
   "file_extension": ".py",
   "mimetype": "text/x-python",
   "name": "python",
   "nbconvert_exporter": "python",
   "pygments_lexer": "ipython3",
   "version": "3.11.5"
  }
 },
 "nbformat": 4,
 "nbformat_minor": 2
}
